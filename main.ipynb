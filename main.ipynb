{
  "cells": [
    {
      "cell_type": "code",
      "execution_count": 2,
      "metadata": {
        "id": "1qEZMJ3zl1-Z"
      },
      "outputs": [],
      "source": [
        "import numpy as np\n",
        "import pandas as pd\n",
        "from nba_api.stats.static import players\n",
        "from nba_api.stats.endpoints import playerestimatedmetrics\n",
        "import unicodedata\n",
        "import random\n",
        "from gekko import GEKKO"
      ]
    },
    {
      "cell_type": "code",
      "execution_count": 3,
      "metadata": {
        "id": "2NHMjlFO3P4Y"
      },
      "outputs": [],
      "source": [
        "#Params\n",
        "k = 13.91"
      ]
    },
    {
      "cell_type": "markdown",
      "metadata": {
        "id": "gujGwDsPv8yt"
      },
      "source": [
        "**utils**"
      ]
    },
    {
      "cell_type": "code",
      "execution_count": 4,
      "metadata": {
        "id": "Tfwzwg2Ev8lu"
      },
      "outputs": [],
      "source": [
        "def select_n_from_k(k, n):\n",
        "  k_copy = list(k)\n",
        "  random.shuffle(k_copy)\n",
        "  return k_copy[:n]"
      ]
    },
    {
      "cell_type": "markdown",
      "metadata": {
        "id": "9GG2BNApzi4Z"
      },
      "source": [
        "**Calculate player costs as max of their % salary cap and comparable player % salary cap**"
      ]
    },
    {
      "cell_type": "code",
      "execution_count": 5,
      "metadata": {
        "id": "KkW_zCrYxKD5"
      },
      "outputs": [],
      "source": [
        "def strip_accents(s):\n",
        "    return ''.join(c for c in unicodedata.normalize('NFD', s)\n",
        "                   if unicodedata.category(c) != 'Mn')"
      ]
    },
    {
      "cell_type": "code",
      "execution_count": 6,
      "metadata": {
        "id": "MjUIyUCol_jQ"
      },
      "outputs": [],
      "source": [
        "def get_all_active_players():\n",
        "  active_players = pd.json_normalize(players.get_active_players())\n",
        "  return active_players"
      ]
    },
    {
      "cell_type": "code",
      "execution_count": 7,
      "metadata": {
        "id": "Rexjrfu3mU3C"
      },
      "outputs": [],
      "source": [
        "def get_epm_ranks(fname=\"epm_data.csv\"):\n",
        "  epm_data = pd.read_csv(fname)\n",
        "  epm_data['epm_rank'] = epm_data['epm'].rank(method='min', ascending=False).astype('int')\n",
        "  return epm_data[[\"nba_id\", \"name\", \"epm_rank\"]]"
      ]
    },
    {
      "cell_type": "code",
      "execution_count": 8,
      "metadata": {
        "id": "pdUpAapenGK4"
      },
      "outputs": [],
      "source": [
        "def get_pct_salary_cap(fname=\"salary_data.csv\", season=\"2023-24\", salary_cap=123000000):\n",
        "  salary_data = pd.read_csv(fname)\n",
        "  salary_data[season] = salary_data[season].str[1:]\n",
        "  salary_data[season] = salary_data[season].str.replace(',', '', regex=False)\n",
        "  salary_data = salary_data[salary_data[season].notna()]\n",
        "  salary_data[season] = salary_data[season].astype(int)\n",
        "  salary_data[\"pct_salary_cap\"] = salary_data[season] / salary_cap\n",
        "\n",
        "  return salary_data[[\"Player\", \"pct_salary_cap\"]]"
      ]
    },
    {
      "cell_type": "code",
      "execution_count": 9,
      "metadata": {
        "id": "L4kqSUdBrNOs"
      },
      "outputs": [],
      "source": [
        "def get_player_comparable_salary_cap():\n",
        "\n",
        "  epm_ranks = get_epm_ranks()\n",
        "  pct_salary_cap_data = get_pct_salary_cap()\n",
        "\n",
        "  ranks = []\n",
        "\n",
        "  for index, row in pct_salary_cap_data.iterrows():\n",
        "    try:\n",
        "      player_name = strip_accents(row[\"Player\"])\n",
        "      epm_rank = epm_ranks[epm_ranks[\"name\"] == player_name][\"epm_rank\"].iloc[0]\n",
        "      ranks.append(epm_rank)\n",
        "    except:\n",
        "      ranks.append(np.nan)\n",
        "\n",
        "  pct_salary_cap_data[\"epm_rank\"] = ranks\n",
        "  pct_salary_cap_data = pct_salary_cap_data.dropna()\n",
        "\n",
        "  pct_salary_cap_data_sorted = pct_salary_cap_data.sort_values(by='epm_rank').reset_index(drop=True)\n",
        "\n",
        "  pct_salary_cap_data_sorted['AvgSalaryCapSurroundingCorrected'] = np.nan\n",
        "\n",
        "  for i in range(len(pct_salary_cap_data_sorted)):\n",
        "      surrounding_players = pct_salary_cap_data_sorted['pct_salary_cap'].iloc[max(i-3, 0):min(i+4, len(pct_salary_cap_data_sorted))].tolist()\n",
        "      if surrounding_players:\n",
        "          pct_salary_cap_data_sorted.at[i, 'AvgSalaryCapSurroundingCorrected'] = sum(surrounding_players) / len(surrounding_players)\n",
        "\n",
        "  return pct_salary_cap_data_sorted"
      ]
    },
    {
      "cell_type": "code",
      "execution_count": 10,
      "metadata": {
        "id": "BDYsiIXryu4j"
      },
      "outputs": [],
      "source": [
        "def get_player_costs():\n",
        "  pct_salary = get_player_comparable_salary_cap()\n",
        "  pct_salary['c'] = np.maximum(pct_salary['AvgSalaryCapSurroundingCorrected'], pct_salary['pct_salary_cap'])\n",
        "\n",
        "  return pct_salary[[\"Player\", \"c\"]]"
      ]
    },
    {
      "cell_type": "code",
      "execution_count": 11,
      "metadata": {
        "id": "gM4T2kptrTXc"
      },
      "outputs": [],
      "source": [
        "def get_estimated_off_rating(player_names, season=\"2023-24\"):\n",
        "  estimated_metrics = playerestimatedmetrics.PlayerEstimatedMetrics(season=season, league_id=\"00\", season_type=\"Regular Season\")\n",
        "  estimated_metrics = estimated_metrics.get_data_frames()[0]\n",
        "\n",
        "  eo = []\n",
        "  ed = []\n",
        "  for player in player_names:\n",
        "    cleaned_name = strip_accents(player)\n",
        "    e_off_rtg = estimated_metrics[estimated_metrics[\"PLAYER_NAME\"] == cleaned_name][\"E_OFF_RATING\"].iloc[0]\n",
        "    e_def_rtg = estimated_metrics[estimated_metrics[\"PLAYER_NAME\"] == cleaned_name][\"E_DEF_RATING\"].iloc[0]\n",
        "    eo.append(float(e_off_rtg) / 100.0)\n",
        "    ed.append(float(e_def_rtg) / 100.0)\n",
        "\n",
        "  out = {\n",
        "      \"Player\": player_names,\n",
        "      \"eo\": eo,\n",
        "      \"ed\": ed\n",
        "  }\n",
        "\n",
        "  return pd.DataFrame(out)"
      ]
    },
    {
      "cell_type": "code",
      "execution_count": 12,
      "metadata": {
        "id": "DgV_uH8J1a6b"
      },
      "outputs": [],
      "source": [
        "def add_eo_ed(player_costs_df, season=\"2023-24\"):\n",
        "  e_mets_df = get_estimated_off_rating(player_costs[\"Player\"].tolist(), season=season)\n",
        "  player_costs_df = player_costs_df.merge(e_mets_df, on=\"Player\")\n",
        "  return player_costs_df"
      ]
    },
    {
      "cell_type": "markdown",
      "metadata": {
        "id": "6HTH0ETS185q"
      },
      "source": [
        "**Next, calculate the number of possessions per game for players**"
      ]
    },
    {
      "cell_type": "code",
      "execution_count": 13,
      "metadata": {
        "id": "EO9LxI4o2iLY"
      },
      "outputs": [],
      "source": [
        "def get_poss_per_game(fname=\"usage_data.csv\"):\n",
        "  usage_data = pd.read_csv(fname)\n",
        "  usage_data[\"poss_per_game\"] = usage_data[\"POSS\"] / usage_data[\"GP\"]\n",
        "  return usage_data[[\"PLAYER\", \"poss_per_game\"]]"
      ]
    },
    {
      "cell_type": "code",
      "execution_count": 14,
      "metadata": {
        "id": "AYO7SvDj2wLM"
      },
      "outputs": [],
      "source": [
        "def add_np(player_df):\n",
        "  poss_per_game = get_poss_per_game()\n",
        "\n",
        "  np = []\n",
        "  for index, row in player_df.iterrows():\n",
        "    player_name = strip_accents(row[\"Player\"])\n",
        "    poss_per_game_val = poss_per_game[poss_per_game[\"PLAYER\"] == player_name][\"poss_per_game\"].iloc[0]\n",
        "    np.append(poss_per_game_val)\n",
        "\n",
        "  player_df[\"np\"] = np\n",
        "  return player_df"
      ]
    },
    {
      "cell_type": "markdown",
      "metadata": {
        "id": "1jzxFbQU39_S"
      },
      "source": [
        "**Finally, calculate league-wide team average possessions per game**"
      ]
    },
    {
      "cell_type": "code",
      "execution_count": 15,
      "metadata": {
        "id": "JC7Nv9hu4B0r"
      },
      "outputs": [],
      "source": [
        "def calculate_league_poss_per_game(fname=\"team_possession_data.csv\"):\n",
        "  team_possession_data = pd.read_csv(fname).dropna()\n",
        "  team_possession_data[\"poss_per_game\"] = team_possession_data[\"POSS\"].str.replace(\",\",\"\", regex=False).astype(int) / team_possession_data[\"GP\"]\n",
        "  return np.mean(team_possession_data[\"poss_per_game\"])"
      ]
    },
    {
      "cell_type": "code",
      "execution_count": 16,
      "metadata": {
        "id": "4fHEc4PP47fG"
      },
      "outputs": [],
      "source": [
        "player_costs = get_player_costs()\n",
        "player_df = add_eo_ed(player_costs)\n",
        "player_df = add_np(player_df)\n",
        "team_np = calculate_league_poss_per_game()"
      ]
    },
    {
      "cell_type": "code",
      "execution_count": null,
      "metadata": {
        "colab": {
          "base_uri": "https://localhost:8080/"
        },
        "id": "wx3ULLcxx0KQ",
        "outputId": "e3e2e73c-3d05-4aa4-9e47-6c87fb0cb631"
      },
      "outputs": [
        {
          "output_type": "execute_result",
          "data": {
            "text/plain": [
              "100.14406309195043"
            ]
          },
          "metadata": {},
          "execution_count": 17
        }
      ],
      "source": [
        "team_np"
      ]
    },
    {
      "cell_type": "code",
      "execution_count": null,
      "metadata": {
        "colab": {
          "base_uri": "https://localhost:8080/",
          "height": 424
        },
        "id": "_88BLRxGqv3V",
        "outputId": "8b3588f7-4b6f-4e8c-9d2b-e9d307de8931"
      },
      "outputs": [
        {
          "output_type": "execute_result",
          "data": {
            "text/plain": [
              "                      Player         c     eo     ed         np\n",
              "0                Joel Embiid  0.387052  1.188  1.092  71.441176\n",
              "1    Shai Gilgeous-Alexander  0.348465  1.204  1.093  73.466667\n",
              "2      Giannis Antetokounmpo  0.371058  1.195  1.121  74.745763\n",
              "3                Luka Dončić  0.325725  1.182  1.152  79.314815\n",
              "4               Nikola Jokić  0.387052  1.201  1.104  70.066667\n",
              "..                       ...       ...    ...    ...        ...\n",
              "453               AJ Griffin  0.030186  1.115  1.200  16.555556\n",
              "454             Johnny Davis  0.041063  1.047  1.109  21.666667\n",
              "455                Ish Smith  0.027255  1.018  1.186  36.023256\n",
              "456            Maxwell Lewis  0.025363  0.792  1.129   7.857143\n",
              "457      Jalen Hood-Schifino  0.030041  0.914  1.149  11.650000\n",
              "\n",
              "[458 rows x 5 columns]"
            ],
            "text/html": [
              "\n",
              "  <div id=\"df-3e816548-398c-41f5-9262-62d9b79fa3d0\" class=\"colab-df-container\">\n",
              "    <div>\n",
              "<style scoped>\n",
              "    .dataframe tbody tr th:only-of-type {\n",
              "        vertical-align: middle;\n",
              "    }\n",
              "\n",
              "    .dataframe tbody tr th {\n",
              "        vertical-align: top;\n",
              "    }\n",
              "\n",
              "    .dataframe thead th {\n",
              "        text-align: right;\n",
              "    }\n",
              "</style>\n",
              "<table border=\"1\" class=\"dataframe\">\n",
              "  <thead>\n",
              "    <tr style=\"text-align: right;\">\n",
              "      <th></th>\n",
              "      <th>Player</th>\n",
              "      <th>c</th>\n",
              "      <th>eo</th>\n",
              "      <th>ed</th>\n",
              "      <th>np</th>\n",
              "    </tr>\n",
              "  </thead>\n",
              "  <tbody>\n",
              "    <tr>\n",
              "      <th>0</th>\n",
              "      <td>Joel Embiid</td>\n",
              "      <td>0.387052</td>\n",
              "      <td>1.188</td>\n",
              "      <td>1.092</td>\n",
              "      <td>71.441176</td>\n",
              "    </tr>\n",
              "    <tr>\n",
              "      <th>1</th>\n",
              "      <td>Shai Gilgeous-Alexander</td>\n",
              "      <td>0.348465</td>\n",
              "      <td>1.204</td>\n",
              "      <td>1.093</td>\n",
              "      <td>73.466667</td>\n",
              "    </tr>\n",
              "    <tr>\n",
              "      <th>2</th>\n",
              "      <td>Giannis Antetokounmpo</td>\n",
              "      <td>0.371058</td>\n",
              "      <td>1.195</td>\n",
              "      <td>1.121</td>\n",
              "      <td>74.745763</td>\n",
              "    </tr>\n",
              "    <tr>\n",
              "      <th>3</th>\n",
              "      <td>Luka Dončić</td>\n",
              "      <td>0.325725</td>\n",
              "      <td>1.182</td>\n",
              "      <td>1.152</td>\n",
              "      <td>79.314815</td>\n",
              "    </tr>\n",
              "    <tr>\n",
              "      <th>4</th>\n",
              "      <td>Nikola Jokić</td>\n",
              "      <td>0.387052</td>\n",
              "      <td>1.201</td>\n",
              "      <td>1.104</td>\n",
              "      <td>70.066667</td>\n",
              "    </tr>\n",
              "    <tr>\n",
              "      <th>...</th>\n",
              "      <td>...</td>\n",
              "      <td>...</td>\n",
              "      <td>...</td>\n",
              "      <td>...</td>\n",
              "      <td>...</td>\n",
              "    </tr>\n",
              "    <tr>\n",
              "      <th>453</th>\n",
              "      <td>AJ Griffin</td>\n",
              "      <td>0.030186</td>\n",
              "      <td>1.115</td>\n",
              "      <td>1.200</td>\n",
              "      <td>16.555556</td>\n",
              "    </tr>\n",
              "    <tr>\n",
              "      <th>454</th>\n",
              "      <td>Johnny Davis</td>\n",
              "      <td>0.041063</td>\n",
              "      <td>1.047</td>\n",
              "      <td>1.109</td>\n",
              "      <td>21.666667</td>\n",
              "    </tr>\n",
              "    <tr>\n",
              "      <th>455</th>\n",
              "      <td>Ish Smith</td>\n",
              "      <td>0.027255</td>\n",
              "      <td>1.018</td>\n",
              "      <td>1.186</td>\n",
              "      <td>36.023256</td>\n",
              "    </tr>\n",
              "    <tr>\n",
              "      <th>456</th>\n",
              "      <td>Maxwell Lewis</td>\n",
              "      <td>0.025363</td>\n",
              "      <td>0.792</td>\n",
              "      <td>1.129</td>\n",
              "      <td>7.857143</td>\n",
              "    </tr>\n",
              "    <tr>\n",
              "      <th>457</th>\n",
              "      <td>Jalen Hood-Schifino</td>\n",
              "      <td>0.030041</td>\n",
              "      <td>0.914</td>\n",
              "      <td>1.149</td>\n",
              "      <td>11.650000</td>\n",
              "    </tr>\n",
              "  </tbody>\n",
              "</table>\n",
              "<p>458 rows × 5 columns</p>\n",
              "</div>\n",
              "    <div class=\"colab-df-buttons\">\n",
              "\n",
              "  <div class=\"colab-df-container\">\n",
              "    <button class=\"colab-df-convert\" onclick=\"convertToInteractive('df-3e816548-398c-41f5-9262-62d9b79fa3d0')\"\n",
              "            title=\"Convert this dataframe to an interactive table.\"\n",
              "            style=\"display:none;\">\n",
              "\n",
              "  <svg xmlns=\"http://www.w3.org/2000/svg\" height=\"24px\" viewBox=\"0 -960 960 960\">\n",
              "    <path d=\"M120-120v-720h720v720H120Zm60-500h600v-160H180v160Zm220 220h160v-160H400v160Zm0 220h160v-160H400v160ZM180-400h160v-160H180v160Zm440 0h160v-160H620v160ZM180-180h160v-160H180v160Zm440 0h160v-160H620v160Z\"/>\n",
              "  </svg>\n",
              "    </button>\n",
              "\n",
              "  <style>\n",
              "    .colab-df-container {\n",
              "      display:flex;\n",
              "      gap: 12px;\n",
              "    }\n",
              "\n",
              "    .colab-df-convert {\n",
              "      background-color: #E8F0FE;\n",
              "      border: none;\n",
              "      border-radius: 50%;\n",
              "      cursor: pointer;\n",
              "      display: none;\n",
              "      fill: #1967D2;\n",
              "      height: 32px;\n",
              "      padding: 0 0 0 0;\n",
              "      width: 32px;\n",
              "    }\n",
              "\n",
              "    .colab-df-convert:hover {\n",
              "      background-color: #E2EBFA;\n",
              "      box-shadow: 0px 1px 2px rgba(60, 64, 67, 0.3), 0px 1px 3px 1px rgba(60, 64, 67, 0.15);\n",
              "      fill: #174EA6;\n",
              "    }\n",
              "\n",
              "    .colab-df-buttons div {\n",
              "      margin-bottom: 4px;\n",
              "    }\n",
              "\n",
              "    [theme=dark] .colab-df-convert {\n",
              "      background-color: #3B4455;\n",
              "      fill: #D2E3FC;\n",
              "    }\n",
              "\n",
              "    [theme=dark] .colab-df-convert:hover {\n",
              "      background-color: #434B5C;\n",
              "      box-shadow: 0px 1px 3px 1px rgba(0, 0, 0, 0.15);\n",
              "      filter: drop-shadow(0px 1px 2px rgba(0, 0, 0, 0.3));\n",
              "      fill: #FFFFFF;\n",
              "    }\n",
              "  </style>\n",
              "\n",
              "    <script>\n",
              "      const buttonEl =\n",
              "        document.querySelector('#df-3e816548-398c-41f5-9262-62d9b79fa3d0 button.colab-df-convert');\n",
              "      buttonEl.style.display =\n",
              "        google.colab.kernel.accessAllowed ? 'block' : 'none';\n",
              "\n",
              "      async function convertToInteractive(key) {\n",
              "        const element = document.querySelector('#df-3e816548-398c-41f5-9262-62d9b79fa3d0');\n",
              "        const dataTable =\n",
              "          await google.colab.kernel.invokeFunction('convertToInteractive',\n",
              "                                                    [key], {});\n",
              "        if (!dataTable) return;\n",
              "\n",
              "        const docLinkHtml = 'Like what you see? Visit the ' +\n",
              "          '<a target=\"_blank\" href=https://colab.research.google.com/notebooks/data_table.ipynb>data table notebook</a>'\n",
              "          + ' to learn more about interactive tables.';\n",
              "        element.innerHTML = '';\n",
              "        dataTable['output_type'] = 'display_data';\n",
              "        await google.colab.output.renderOutput(dataTable, element);\n",
              "        const docLink = document.createElement('div');\n",
              "        docLink.innerHTML = docLinkHtml;\n",
              "        element.appendChild(docLink);\n",
              "      }\n",
              "    </script>\n",
              "  </div>\n",
              "\n",
              "\n",
              "<div id=\"df-d21ae45c-1b40-4dc5-9089-fadd4c27f9f8\">\n",
              "  <button class=\"colab-df-quickchart\" onclick=\"quickchart('df-d21ae45c-1b40-4dc5-9089-fadd4c27f9f8')\"\n",
              "            title=\"Suggest charts\"\n",
              "            style=\"display:none;\">\n",
              "\n",
              "<svg xmlns=\"http://www.w3.org/2000/svg\" height=\"24px\"viewBox=\"0 0 24 24\"\n",
              "     width=\"24px\">\n",
              "    <g>\n",
              "        <path d=\"M19 3H5c-1.1 0-2 .9-2 2v14c0 1.1.9 2 2 2h14c1.1 0 2-.9 2-2V5c0-1.1-.9-2-2-2zM9 17H7v-7h2v7zm4 0h-2V7h2v10zm4 0h-2v-4h2v4z\"/>\n",
              "    </g>\n",
              "</svg>\n",
              "  </button>\n",
              "\n",
              "<style>\n",
              "  .colab-df-quickchart {\n",
              "      --bg-color: #E8F0FE;\n",
              "      --fill-color: #1967D2;\n",
              "      --hover-bg-color: #E2EBFA;\n",
              "      --hover-fill-color: #174EA6;\n",
              "      --disabled-fill-color: #AAA;\n",
              "      --disabled-bg-color: #DDD;\n",
              "  }\n",
              "\n",
              "  [theme=dark] .colab-df-quickchart {\n",
              "      --bg-color: #3B4455;\n",
              "      --fill-color: #D2E3FC;\n",
              "      --hover-bg-color: #434B5C;\n",
              "      --hover-fill-color: #FFFFFF;\n",
              "      --disabled-bg-color: #3B4455;\n",
              "      --disabled-fill-color: #666;\n",
              "  }\n",
              "\n",
              "  .colab-df-quickchart {\n",
              "    background-color: var(--bg-color);\n",
              "    border: none;\n",
              "    border-radius: 50%;\n",
              "    cursor: pointer;\n",
              "    display: none;\n",
              "    fill: var(--fill-color);\n",
              "    height: 32px;\n",
              "    padding: 0;\n",
              "    width: 32px;\n",
              "  }\n",
              "\n",
              "  .colab-df-quickchart:hover {\n",
              "    background-color: var(--hover-bg-color);\n",
              "    box-shadow: 0 1px 2px rgba(60, 64, 67, 0.3), 0 1px 3px 1px rgba(60, 64, 67, 0.15);\n",
              "    fill: var(--button-hover-fill-color);\n",
              "  }\n",
              "\n",
              "  .colab-df-quickchart-complete:disabled,\n",
              "  .colab-df-quickchart-complete:disabled:hover {\n",
              "    background-color: var(--disabled-bg-color);\n",
              "    fill: var(--disabled-fill-color);\n",
              "    box-shadow: none;\n",
              "  }\n",
              "\n",
              "  .colab-df-spinner {\n",
              "    border: 2px solid var(--fill-color);\n",
              "    border-color: transparent;\n",
              "    border-bottom-color: var(--fill-color);\n",
              "    animation:\n",
              "      spin 1s steps(1) infinite;\n",
              "  }\n",
              "\n",
              "  @keyframes spin {\n",
              "    0% {\n",
              "      border-color: transparent;\n",
              "      border-bottom-color: var(--fill-color);\n",
              "      border-left-color: var(--fill-color);\n",
              "    }\n",
              "    20% {\n",
              "      border-color: transparent;\n",
              "      border-left-color: var(--fill-color);\n",
              "      border-top-color: var(--fill-color);\n",
              "    }\n",
              "    30% {\n",
              "      border-color: transparent;\n",
              "      border-left-color: var(--fill-color);\n",
              "      border-top-color: var(--fill-color);\n",
              "      border-right-color: var(--fill-color);\n",
              "    }\n",
              "    40% {\n",
              "      border-color: transparent;\n",
              "      border-right-color: var(--fill-color);\n",
              "      border-top-color: var(--fill-color);\n",
              "    }\n",
              "    60% {\n",
              "      border-color: transparent;\n",
              "      border-right-color: var(--fill-color);\n",
              "    }\n",
              "    80% {\n",
              "      border-color: transparent;\n",
              "      border-right-color: var(--fill-color);\n",
              "      border-bottom-color: var(--fill-color);\n",
              "    }\n",
              "    90% {\n",
              "      border-color: transparent;\n",
              "      border-bottom-color: var(--fill-color);\n",
              "    }\n",
              "  }\n",
              "</style>\n",
              "\n",
              "  <script>\n",
              "    async function quickchart(key) {\n",
              "      const quickchartButtonEl =\n",
              "        document.querySelector('#' + key + ' button');\n",
              "      quickchartButtonEl.disabled = true;  // To prevent multiple clicks.\n",
              "      quickchartButtonEl.classList.add('colab-df-spinner');\n",
              "      try {\n",
              "        const charts = await google.colab.kernel.invokeFunction(\n",
              "            'suggestCharts', [key], {});\n",
              "      } catch (error) {\n",
              "        console.error('Error during call to suggestCharts:', error);\n",
              "      }\n",
              "      quickchartButtonEl.classList.remove('colab-df-spinner');\n",
              "      quickchartButtonEl.classList.add('colab-df-quickchart-complete');\n",
              "    }\n",
              "    (() => {\n",
              "      let quickchartButtonEl =\n",
              "        document.querySelector('#df-d21ae45c-1b40-4dc5-9089-fadd4c27f9f8 button');\n",
              "      quickchartButtonEl.style.display =\n",
              "        google.colab.kernel.accessAllowed ? 'block' : 'none';\n",
              "    })();\n",
              "  </script>\n",
              "</div>\n",
              "\n",
              "  <div id=\"id_35aaa858-572e-4f88-a797-b5bcf6f30c1f\">\n",
              "    <style>\n",
              "      .colab-df-generate {\n",
              "        background-color: #E8F0FE;\n",
              "        border: none;\n",
              "        border-radius: 50%;\n",
              "        cursor: pointer;\n",
              "        display: none;\n",
              "        fill: #1967D2;\n",
              "        height: 32px;\n",
              "        padding: 0 0 0 0;\n",
              "        width: 32px;\n",
              "      }\n",
              "\n",
              "      .colab-df-generate:hover {\n",
              "        background-color: #E2EBFA;\n",
              "        box-shadow: 0px 1px 2px rgba(60, 64, 67, 0.3), 0px 1px 3px 1px rgba(60, 64, 67, 0.15);\n",
              "        fill: #174EA6;\n",
              "      }\n",
              "\n",
              "      [theme=dark] .colab-df-generate {\n",
              "        background-color: #3B4455;\n",
              "        fill: #D2E3FC;\n",
              "      }\n",
              "\n",
              "      [theme=dark] .colab-df-generate:hover {\n",
              "        background-color: #434B5C;\n",
              "        box-shadow: 0px 1px 3px 1px rgba(0, 0, 0, 0.15);\n",
              "        filter: drop-shadow(0px 1px 2px rgba(0, 0, 0, 0.3));\n",
              "        fill: #FFFFFF;\n",
              "      }\n",
              "    </style>\n",
              "    <button class=\"colab-df-generate\" onclick=\"generateWithVariable('player_df')\"\n",
              "            title=\"Generate code using this dataframe.\"\n",
              "            style=\"display:none;\">\n",
              "\n",
              "  <svg xmlns=\"http://www.w3.org/2000/svg\" height=\"24px\"viewBox=\"0 0 24 24\"\n",
              "       width=\"24px\">\n",
              "    <path d=\"M7,19H8.4L18.45,9,17,7.55,7,17.6ZM5,21V16.75L18.45,3.32a2,2,0,0,1,2.83,0l1.4,1.43a1.91,1.91,0,0,1,.58,1.4,1.91,1.91,0,0,1-.58,1.4L9.25,21ZM18.45,9,17,7.55Zm-12,3A5.31,5.31,0,0,0,4.9,8.1,5.31,5.31,0,0,0,1,6.5,5.31,5.31,0,0,0,4.9,4.9,5.31,5.31,0,0,0,6.5,1,5.31,5.31,0,0,0,8.1,4.9,5.31,5.31,0,0,0,12,6.5,5.46,5.46,0,0,0,6.5,12Z\"/>\n",
              "  </svg>\n",
              "    </button>\n",
              "    <script>\n",
              "      (() => {\n",
              "      const buttonEl =\n",
              "        document.querySelector('#id_35aaa858-572e-4f88-a797-b5bcf6f30c1f button.colab-df-generate');\n",
              "      buttonEl.style.display =\n",
              "        google.colab.kernel.accessAllowed ? 'block' : 'none';\n",
              "\n",
              "      buttonEl.onclick = () => {\n",
              "        google.colab.notebook.generateWithVariable('player_df');\n",
              "      }\n",
              "      })();\n",
              "    </script>\n",
              "  </div>\n",
              "\n",
              "    </div>\n",
              "  </div>\n"
            ],
            "application/vnd.google.colaboratory.intrinsic+json": {
              "type": "dataframe",
              "variable_name": "player_df",
              "summary": "{\n  \"name\": \"player_df\",\n  \"rows\": 458,\n  \"fields\": [\n    {\n      \"column\": \"Player\",\n      \"properties\": {\n        \"dtype\": \"string\",\n        \"num_unique_values\": 416,\n        \"samples\": [\n          \"Bol Bol\",\n          \"John Konchar\",\n          \"Jalen McDaniels\"\n        ],\n        \"semantic_type\": \"\",\n        \"description\": \"\"\n      }\n    },\n    {\n      \"column\": \"c\",\n      \"properties\": {\n        \"dtype\": \"number\",\n        \"std\": 0.08830605210756273,\n        \"min\": 0.016260162601626018,\n        \"max\": 0.42207817073170734,\n        \"num_unique_values\": 404,\n        \"samples\": [\n          0.12826730429732872,\n          0.14634146341463414,\n          0.042707031358885025\n        ],\n        \"semantic_type\": \"\",\n        \"description\": \"\"\n      }\n    },\n    {\n      \"column\": \"eo\",\n      \"properties\": {\n        \"dtype\": \"number\",\n        \"std\": 0.05495491427248823,\n        \"min\": 0.792,\n        \"max\": 1.287,\n        \"num_unique_values\": 174,\n        \"samples\": [\n          1.054,\n          0.9490000000000001,\n          1.0959999999999999\n        ],\n        \"semantic_type\": \"\",\n        \"description\": \"\"\n      }\n    },\n    {\n      \"column\": \"ed\",\n      \"properties\": {\n        \"dtype\": \"number\",\n        \"std\": 0.04926445107691741,\n        \"min\": 0.8140000000000001,\n        \"max\": 1.439,\n        \"num_unique_values\": 156,\n        \"samples\": [\n          1.12,\n          1.031,\n          1.078\n        ],\n        \"semantic_type\": \"\",\n        \"description\": \"\"\n      }\n    },\n    {\n      \"column\": \"np\",\n      \"properties\": {\n        \"dtype\": \"number\",\n        \"std\": 19.044063908391934,\n        \"min\": 6.9523809523809526,\n        \"max\": 79.72549019607843,\n        \"num_unique_values\": 411,\n        \"samples\": [\n          53.05172413793103,\n          68.34545454545454,\n          53.875\n        ],\n        \"semantic_type\": \"\",\n        \"description\": \"\"\n      }\n    }\n  ]\n}"
            }
          },
          "metadata": {},
          "execution_count": 18
        }
      ],
      "source": [
        "player_df"
      ]
    },
    {
      "cell_type": "markdown",
      "source": [
        "**Brute force won't work - way too many combos**"
      ],
      "metadata": {
        "id": "xQ0Uy65wG_kd"
      }
    },
    {
      "cell_type": "markdown",
      "metadata": {
        "id": "8yXXyXqD404u"
      },
      "source": [
        "**Finally, we are ready to set up the constrained optimization problem.**"
      ]
    },
    {
      "cell_type": "code",
      "execution_count": 18,
      "metadata": {
        "colab": {
          "base_uri": "https://localhost:8080/"
        },
        "id": "2IO8F83K1snH",
        "outputId": "8d1d8bb1-73bd-494e-eb37-6dbcbd4b7826"
      },
      "outputs": [
        {
          "output_type": "stream",
          "name": "stdout",
          "text": [
            "Number of players: 458\n"
          ]
        }
      ],
      "source": [
        "n = len(player_df)\n",
        "bounds = [(0, 1)] * n\n",
        "print(\"Number of players: \" + str(n))"
      ]
    },
    {
      "cell_type": "code",
      "execution_count": 17,
      "metadata": {
        "id": "vB5ehR6yqBBa"
      },
      "outputs": [],
      "source": [
        "def objective_function(x, player_df):\n",
        "  pts_added = 0\n",
        "  pts_given = 0\n",
        "\n",
        "  for i in range(n):\n",
        "    player_data = player_df.iloc[i]\n",
        "\n",
        "    term = float(player_data[\"eo\"]) * float(player_data[\"np\"]) * float(x[i])\n",
        "    pts_added += term\n",
        "\n",
        "    term = float(player_data[\"ed\"]) * float(player_data[\"np\"]) * float(x[i])\n",
        "    pts_given += term\n",
        "\n",
        "  pts_added = pts_added ** 13.91\n",
        "  pts_given = pts_given ** 13.91\n",
        "\n",
        "  return (pts_added) / (pts_added + pts_given)"
      ]
    },
    {
      "cell_type": "code",
      "execution_count": null,
      "metadata": {
        "colab": {
          "base_uri": "https://localhost:8080/"
        },
        "id": "DdtLHkdW8AGZ",
        "outputId": "4ad6a9cd-b840-41f0-e02f-fcd035f7724d"
      },
      "outputs": [
        {
          "output_type": "stream",
          "name": "stdout",
          "text": [
            "[1, 1, 1, 1, 1, 1, 1, 1, 1, 1, 1, 1, 1, 1, 1, 0, 0, 0, 0, 0, 0, 0, 0, 0, 0, 0, 0, 0, 0, 0, 0, 0, 0, 0, 0, 0, 0, 0, 0, 0, 0, 0, 0, 0, 0, 0, 0, 0, 0, 0, 0, 0, 0, 0, 0, 0, 0, 0, 0, 0, 0, 0, 0, 0, 0, 0, 0, 0, 0, 0, 0, 0, 0, 0, 0, 0, 0, 0, 0, 0, 0, 0, 0, 0, 0, 0, 0, 0, 0, 0, 0, 0, 0, 0, 0, 0, 0, 0, 0, 0, 0, 0, 0, 0, 0, 0, 0, 0, 0, 0, 0, 0, 0, 0, 0, 0, 0, 0, 0, 0, 0, 0, 0, 0, 0, 0, 0, 0, 0, 0, 0, 0, 0, 0, 0, 0, 0, 0, 0, 0, 0, 0, 0, 0, 0, 0, 0, 0, 0, 0, 0, 0, 0, 0, 0, 0, 0, 0, 0, 0, 0, 0, 0, 0, 0, 0, 0, 0, 0, 0, 0, 0, 0, 0, 0, 0, 0, 0, 0, 0, 0, 0, 0, 0, 0, 0, 0, 0, 0, 0, 0, 0, 0, 0, 0, 0, 0, 0, 0, 0, 0, 0, 0, 0, 0, 0, 0, 0, 0, 0, 0, 0, 0, 0, 0, 0, 0, 0, 0, 0, 0, 0, 0, 0, 0, 0, 0, 0, 0, 0, 0, 0, 0, 0, 0, 0, 0, 0, 0, 0, 0, 0, 0, 0, 0, 0, 0, 0, 0, 0, 0, 0, 0, 0, 0, 0, 0, 0, 0, 0, 0, 0, 0, 0, 0, 0, 0, 0, 0, 0, 0, 0, 0, 0, 0, 0, 0, 0, 0, 0, 0, 0, 0, 0, 0, 0, 0, 0, 0, 0, 0, 0, 0, 0, 0, 0, 0, 0, 0, 0, 0, 0, 0, 0, 0, 0, 0, 0, 0, 0, 0, 0, 0, 0, 0, 0, 0, 0, 0, 0, 0, 0, 0, 0, 0, 0, 0, 0, 0, 0, 0, 0, 0, 0, 0, 0, 0, 0, 0, 0, 0, 0, 0, 0, 0, 0, 0, 0, 0, 0, 0, 0, 0, 0, 0, 0, 0, 0, 0, 0, 0, 0, 0, 0, 0, 0, 0, 0, 0, 0, 0, 0, 0, 0, 0, 0, 0, 0, 0, 0, 0, 0, 0, 0, 0, 0, 0, 0, 0, 0, 0, 0, 0, 0, 0, 0, 0, 0, 0, 0, 0, 0, 0, 0, 0, 0, 0, 0, 0, 0, 0, 0, 0, 0, 0, 0, 0, 0, 0, 0, 0, 0, 0, 0, 0, 0, 0, 0, 0, 0, 0, 0, 0, 0, 0, 0, 0, 0, 0, 0, 0, 0, 0, 0, 0, 0, 0, 0, 0, 0, 0, 0, 0, 0, 0, 0, 0, 0]\n",
            " ----------------------------------------------------------------\n",
            " APMonitor, Version 1.0.1\n",
            " APMonitor Optimization Suite\n",
            " ----------------------------------------------------------------\n",
            " \n",
            " \n",
            " --------- APM Model Size ------------\n",
            " Each time step contains\n",
            "   Objects      :            3\n",
            "   Constants    :          916\n",
            "   Variables    :         1379\n",
            "   Intermediates:         1836\n",
            "   Connections  :         1377\n",
            "   Equations    :         2756\n",
            "   Residuals    :          920\n",
            " \n",
            " Number of state variables:           1379\n",
            " Number of total equations: -          922\n",
            " Number of slack variables: -            2\n",
            " ---------------------------------------\n",
            " Degrees of freedom       :            455\n",
            " \n",
            " ----------------------------------------------\n",
            " Steady State Optimization with APOPT Solver\n",
            " ----------------------------------------------\n",
            "Iter:     1 I:  0 Tm:      0.52 NLPi:   13 Dpth:    0 Lvs:    3 Obj: -8.28E-01 Gap:       NaN\n",
            "Iter:     2 I: -1 Tm:      0.10 NLPi:    4 Dpth:    1 Lvs:    2 Obj: -8.28E-01 Gap:       NaN\n",
            "Iter:     3 I:  0 Tm:      0.22 NLPi:    8 Dpth:    1 Lvs:    4 Obj: -8.28E-01 Gap:       NaN\n",
            "Iter:     4 I:  0 Tm:      0.16 NLPi:    5 Dpth:    1 Lvs:    5 Obj: -8.28E-01 Gap:       NaN\n",
            "Iter:     5 I:  0 Tm:      0.09 NLPi:    5 Dpth:    2 Lvs:    7 Obj: -8.28E-01 Gap:       NaN\n",
            "Iter:     6 I:  0 Tm:      0.19 NLPi:    7 Dpth:    2 Lvs:    8 Obj: -8.28E-01 Gap:       NaN\n",
            "Iter:     7 I:  0 Tm:      0.13 NLPi:    5 Dpth:    3 Lvs:   10 Obj: -8.27E-01 Gap:       NaN\n",
            "Iter:     8 I:  0 Tm:      0.15 NLPi:    5 Dpth:    3 Lvs:   11 Obj: -8.28E-01 Gap:       NaN\n",
            "Iter:     9 I:  0 Tm:      0.09 NLPi:    5 Dpth:    4 Lvs:   13 Obj: -8.28E-01 Gap:       NaN\n",
            "Iter:    10 I:  0 Tm:      0.18 NLPi:    6 Dpth:    4 Lvs:   14 Obj: -8.28E-01 Gap:       NaN\n",
            "Iter:    11 I:  0 Tm:      0.15 NLPi:    8 Dpth:    3 Lvs:   16 Obj: -8.27E-01 Gap:       NaN\n",
            "Iter:    12 I:  0 Tm:      0.09 NLPi:    5 Dpth:    3 Lvs:   18 Obj: -8.28E-01 Gap:       NaN\n",
            "Iter:    13 I:  0 Tm:      0.19 NLPi:    6 Dpth:    3 Lvs:   20 Obj: -8.27E-01 Gap:       NaN\n",
            "Iter:    14 I: -9 Tm:      5.46 NLPi:  251 Dpth:    2 Lvs:   19 Obj: -8.28E-01 Gap:       NaN\n",
            "Iter:    15 I:  0 Tm:      0.21 NLPi:    7 Dpth:    2 Lvs:   21 Obj: -8.27E-01 Gap:       NaN\n",
            "Iter:    16 I:  0 Tm:      0.10 NLPi:    3 Dpth:    2 Lvs:   23 Obj: -8.27E-01 Gap:       NaN\n",
            "Iter:    17 I:  0 Tm:      0.16 NLPi:    7 Dpth:    5 Lvs:   25 Obj: -8.27E-01 Gap:       NaN\n",
            "Iter:    18 I:  0 Tm:      0.12 NLPi:    3 Dpth:    5 Lvs:   26 Obj: -8.27E-01 Gap:       NaN\n",
            "Iter:    19 I: -1 Tm:      0.05 NLPi:    2 Dpth:    4 Lvs:   25 Obj: -8.28E-01 Gap:       NaN\n",
            "Iter:    20 I:  0 Tm:      0.12 NLPi:    4 Dpth:    4 Lvs:   27 Obj: -8.28E-01 Gap:       NaN\n",
            "Iter:    21 I:  0 Tm:      0.21 NLPi:    8 Dpth:    4 Lvs:   29 Obj: -8.27E-01 Gap:       NaN\n",
            "Iter:    22 I: -1 Tm:      0.05 NLPi:    2 Dpth:    5 Lvs:   28 Obj: -8.28E-01 Gap:       NaN\n",
            "Iter:    23 I:  0 Tm:      0.17 NLPi:    3 Dpth:    5 Lvs:   30 Obj: -8.27E-01 Gap:       NaN\n",
            "Iter:    24 I:  0 Tm:      0.33 NLPi:    5 Dpth:    5 Lvs:   32 Obj: -8.27E-01 Gap:       NaN\n",
            "--Integer Solution:  -8.26E-01 Lowest Leaf:  -8.28E-01 Gap:   1.81E-03\n",
            "Iter:    25 I:  0 Tm:      0.05 NLPi:    3 Dpth:    5 Lvs:   32 Obj: -8.26E-01 Gap:  1.81E-03\n",
            " Successful solution\n",
            " \n",
            " ---------------------------------------------------\n",
            " Solver         :  APOPT (v1.0)\n",
            " Solution time  :    9.32439999998314      sec\n",
            " Objective      :  -0.825719471672158     \n",
            " Successful solution\n",
            " ---------------------------------------------------\n",
            " \n",
            "\n"
          ]
        }
      ],
      "source": [
        "m = GEKKO(remote=False)\n",
        "salaries = player_df[\"c\"].tolist()\n",
        "poss = player_df[\"np\"].tolist()\n",
        "\n",
        "#x = [m.Var(lb=0, ub=1, integer=True) for _ in range(n)]\n",
        "x = [m.Var(value=1 if i < 15 else 0, lb=0, ub=1, integer=True) for i in range(n)]\n",
        "print(x)\n",
        "\n",
        "pts_added = m.Intermediate(1)\n",
        "pts_given = m.Intermediate(1)\n",
        "\n",
        "for i in range(n):\n",
        "    player_data = player_df.iloc[i]\n",
        "    eo = player_data[\"eo\"]\n",
        "    np = player_data[\"np\"]\n",
        "    ed = player_data[\"ed\"]\n",
        "\n",
        "    #Intermediate terms for readability\n",
        "    term_added = m.Intermediate(eo * np * x[i])\n",
        "    term_given = m.Intermediate(ed * np * x[i])\n",
        "\n",
        "    #Update pts_added and pts_given\n",
        "    pts_added = m.Intermediate(pts_added + term_added)\n",
        "    pts_given = m.Intermediate(pts_given + term_given)\n",
        "\n",
        "pts_added_powered = m.Intermediate(pts_added**13.91)\n",
        "pts_given_powered = m.Intermediate(pts_given**13.91)\n",
        "\n",
        "objective = pts_added_powered / (pts_added_powered + pts_given_powered)\n",
        "\n",
        "m.Maximize(objective)\n",
        "\n",
        "m.Equation(m.sum(x) == 15)\n",
        "salaries_var = [m.Const(value=salaries[i]) for i in range(n)]\n",
        "m.Equation(m.sum([salaries_var[i] * x[i] for i in range(n)]) <= 1)\n",
        "\n",
        "#Add play time constraint\n",
        "poss_var = [m.Const(value=poss[i]) for i in range(n)]\n",
        "m.Equation(m.sum([poss_var[i] * x[i] for i in range(n)]) >= 5*team_np)\n",
        "\n",
        "m.options.SOLVER=1\n",
        "m.solve(disp=True)\n",
        "solution = [x[i].value[0] for i in range(n)]\n",
        "\n",
        "\n"
      ]
    },
    {
      "cell_type": "code",
      "execution_count": null,
      "metadata": {
        "colab": {
          "base_uri": "https://localhost:8080/"
        },
        "id": "x4-y4DT4-RIR",
        "outputId": "03788127-d76e-4622-b8eb-c0d12739c4e0"
      },
      "outputs": [
        {
          "output_type": "stream",
          "name": "stdout",
          "text": [
            "Player    Jose Alvarado\n",
            "c              0.064917\n",
            "eo                1.168\n",
            "ed                1.031\n",
            "np            35.634146\n",
            "Name: 92, dtype: object\n",
            "Player    Trey Murphy III\n",
            "c                 0.06752\n",
            "eo                  1.166\n",
            "ed                  1.055\n",
            "np              56.567568\n",
            "Name: 98, dtype: object\n",
            "Player    Kentavious Caldwell-Pope\n",
            "c                         0.119552\n",
            "eo                           1.207\n",
            "ed                           1.098\n",
            "np                       65.107143\n",
            "Name: 102, dtype: object\n",
            "Player    Dean Wade\n",
            "c           0.12819\n",
            "eo            1.141\n",
            "ed            1.022\n",
            "np        41.730769\n",
            "Name: 103, dtype: object\n",
            "Player    Al Horford\n",
            "c             0.1099\n",
            "eo             1.197\n",
            "ed             1.076\n",
            "np         55.313725\n",
            "Name: 152, dtype: object\n",
            "Player    Neemias Queta\n",
            "c              0.081953\n",
            "eo                1.287\n",
            "ed                1.128\n",
            "np            24.913043\n",
            "Name: 154, dtype: object\n",
            "Player    Ryan Rollins\n",
            "c             0.080131\n",
            "eo                1.18\n",
            "ed               0.814\n",
            "np                14.9\n",
            "Name: 164, dtype: object\n",
            "Player    Nikola Jović\n",
            "c              0.06534\n",
            "eo               1.156\n",
            "ed               1.065\n",
            "np           35.111111\n",
            "Name: 165, dtype: object\n",
            "Player    Sam Hauser\n",
            "c           0.038007\n",
            "eo             1.182\n",
            "ed             1.074\n",
            "np         43.316667\n",
            "Name: 166, dtype: object\n",
            "Player    Payton Pritchard\n",
            "c                 0.037941\n",
            "eo                    1.19\n",
            "ed                   1.102\n",
            "np               41.360656\n",
            "Name: 167, dtype: object\n",
            "Player    Kenrich Williams\n",
            "c                 0.066117\n",
            "eo                   1.191\n",
            "ed                   1.067\n",
            "np                    30.1\n",
            "Name: 217, dtype: object\n",
            "Player     Alex Len\n",
            "c          0.026059\n",
            "eo            1.167\n",
            "ed            1.021\n",
            "np        18.615385\n",
            "Name: 311, dtype: object\n",
            "Player    Cody Zeller\n",
            "c            0.035718\n",
            "eo              1.161\n",
            "ed               1.07\n",
            "np          16.846154\n",
            "Name: 331, dtype: object\n",
            "Player    Anthony Gill\n",
            "c             0.035052\n",
            "eo               1.207\n",
            "ed               1.016\n",
            "np              12.125\n",
            "Name: 345, dtype: object\n",
            "Player    Patrick Baldwin Jr.\n",
            "c                    0.035029\n",
            "eo                      1.103\n",
            "ed                      0.952\n",
            "np                      17.05\n",
            "Name: 381, dtype: object\n"
          ]
        }
      ],
      "source": [
        "for i in range(len(solution)):\n",
        "  if solution[i] == 1.0:\n",
        "    print(player_df.iloc[i])"
      ]
    },
    {
      "cell_type": "code",
      "execution_count": null,
      "metadata": {
        "colab": {
          "base_uri": "https://localhost:8080/"
        },
        "id": "6HAA21HVAPvw",
        "outputId": "015738a5-832d-4940-db73-a0732abd945f"
      },
      "outputs": [
        {
          "output_type": "execute_result",
          "data": {
            "text/plain": [
              "0.8261131241672858"
            ]
          },
          "metadata": {},
          "execution_count": 43
        }
      ],
      "source": [
        "objective_function(solution, player_df)"
      ]
    },
    {
      "cell_type": "code",
      "execution_count": null,
      "metadata": {
        "id": "HtP8mDdEAhWR"
      },
      "outputs": [],
      "source": []
    },
    {
      "cell_type": "markdown",
      "source": [
        "**Construct model to work with players already on roster and limited other players available**"
      ],
      "metadata": {
        "id": "M0yWLDMIXogR"
      }
    },
    {
      "cell_type": "code",
      "source": [
        "player_list = player_df[\"Player\"].tolist()"
      ],
      "metadata": {
        "id": "Y-amH_MMY-o-"
      },
      "execution_count": null,
      "outputs": []
    },
    {
      "cell_type": "code",
      "source": [
        "fixed_players = [\n",
        "]\n",
        "available_players = [i for i in pd.read_csv(\"FreeAgents.csv\")[\"Player\"].tolist() if i in player_list]"
      ],
      "metadata": {
        "id": "rI2YhuREXsqH"
      },
      "execution_count": null,
      "outputs": []
    },
    {
      "cell_type": "code",
      "source": [
        "refined_player_df = player_df[player_df[\"Player\"].isin(available_players) | player_df[\"Player\"].isin(fixed_players)]"
      ],
      "metadata": {
        "id": "leyRc4DOYhoc"
      },
      "execution_count": null,
      "outputs": []
    },
    {
      "cell_type": "code",
      "source": [
        "refined_player_list = refined_player_df[\"Player\"].tolist()\n",
        "fixed_players_indices = [refined_player_list.index(i) for i in fixed_players]"
      ],
      "metadata": {
        "id": "Vmq3HBFTZoR4"
      },
      "execution_count": null,
      "outputs": []
    },
    {
      "cell_type": "code",
      "source": [
        "fixed_players_indices"
      ],
      "metadata": {
        "colab": {
          "base_uri": "https://localhost:8080/"
        },
        "id": "JQAFyznobY-8",
        "outputId": "4fc42f30-9045-4c5c-84f7-a0214daace2d"
      },
      "execution_count": null,
      "outputs": [
        {
          "output_type": "execute_result",
          "data": {
            "text/plain": [
              "[]"
            ]
          },
          "metadata": {},
          "execution_count": 123
        }
      ]
    },
    {
      "cell_type": "code",
      "source": [
        "m = GEKKO(remote=False)\n",
        "n = len(refined_player_df)\n",
        "salaries = refined_player_df[\"c\"].tolist()\n",
        "poss = refined_player_df[\"np\"].tolist()\n",
        "\n",
        "#x = [m.Var(lb=0, ub=1, integer=True) for _ in range(n)]\n",
        "#x = [m.Var(value=1 if i < 15 else 0, lb=0, ub=1, integer=True) for i in range(n)]\n",
        "x = [m.Var(value=1 if i in fixed_players_indices else 0, lb=0, ub=1, integer=True) for i in range(n)]\n",
        "print(x)\n",
        "\n",
        "pts_added = m.Intermediate(1)\n",
        "pts_given = m.Intermediate(1)\n",
        "\n",
        "for i in range(n):\n",
        "    player_data = player_df.iloc[i]\n",
        "    eo = player_data[\"eo\"]\n",
        "    np = player_data[\"np\"]\n",
        "    ed = player_data[\"ed\"]\n",
        "\n",
        "    #Intermediate terms for readability\n",
        "    term_added = m.Intermediate(eo * np * x[i])\n",
        "    term_given = m.Intermediate(ed * np * x[i])\n",
        "\n",
        "    #Update pts_added and pts_given\n",
        "    pts_added = m.Intermediate(pts_added + term_added)\n",
        "    pts_given = m.Intermediate(pts_given + term_given)\n",
        "\n",
        "pts_added_powered = m.Intermediate(pts_added**13.91)\n",
        "pts_given_powered = m.Intermediate(pts_given**13.91)\n",
        "\n",
        "objective = pts_added_powered / (pts_added_powered + pts_given_powered)\n",
        "\n",
        "m.Maximize(objective)\n",
        "\n",
        "#Add roster size constraint\n",
        "m.Equation(m.sum(x) <= 15)\n",
        "m.Equation(m.sum(x) >= 12)\n",
        "\n",
        "#Add salary cap constraint\n",
        "salaries_var = [m.Const(value=salaries[i]) for i in range(n)]\n",
        "m.Equation(m.sum([salaries_var[i] * x[i] for i in range(n)]) <= 1.5)\n",
        "\n",
        "#Add minimum salary constraint\n",
        "m.Equation(m.sum([salaries_var[i] * x[i] for i in range(n)]) >= .9)\n",
        "\n",
        "#Add play time constraint\n",
        "#poss_var = [m.Const(value=poss[i]) for i in range(n)]\n",
        "#m.Equation(m.sum([poss_var[i] * x[i] for i in range(n)]) >= 5*team_np)\n",
        "\n",
        "#Add fixed players constraint\n",
        "for idx in fixed_players_indices:\n",
        "    m.Equation(x[idx] == 1)\n",
        "\n",
        "m.options.SOLVER=1\n",
        "m.solve(disp=True)\n",
        "solution = [x[i].value[0] for i in range(n)]\n",
        "\n",
        "\n"
      ],
      "metadata": {
        "colab": {
          "base_uri": "https://localhost:8080/"
        },
        "id": "oO6gjE8GaCI4",
        "outputId": "c2baee04-7918-4921-d985-264464df6756"
      },
      "execution_count": null,
      "outputs": [
        {
          "output_type": "stream",
          "name": "stdout",
          "text": [
            "[0, 0, 0, 0, 0, 0, 0, 0, 0, 0, 0, 0, 0, 0, 0, 0, 0, 0, 0, 0, 0, 0, 0, 0, 0, 0, 0, 0, 0, 0, 0, 0, 0, 0, 0, 0, 0, 0, 0, 0, 0, 0, 0, 0, 0, 0, 0, 0, 0, 0, 0, 0, 0, 0, 0, 0, 0, 0, 0, 0, 0, 0, 0, 0, 0, 0, 0, 0, 0, 0, 0, 0, 0, 0, 0, 0, 0, 0, 0, 0, 0, 0, 0, 0, 0, 0, 0, 0, 0, 0, 0, 0, 0, 0, 0, 0, 0, 0, 0, 0, 0, 0, 0, 0, 0, 0, 0, 0, 0, 0, 0, 0, 0, 0, 0, 0, 0, 0, 0, 0, 0, 0, 0, 0, 0, 0, 0, 0, 0, 0, 0, 0, 0, 0, 0, 0, 0, 0, 0, 0, 0, 0, 0, 0, 0, 0, 0, 0, 0, 0, 0, 0, 0]\n",
            " ----------------------------------------------------------------\n",
            " APMonitor, Version 1.0.1\n",
            " APMonitor Optimization Suite\n",
            " ----------------------------------------------------------------\n",
            " \n",
            " \n",
            " --------- APM Model Size ------------\n",
            " Each time step contains\n",
            "   Objects      :            4\n",
            "   Constants    :          153\n",
            "   Variables    :          467\n",
            "   Intermediates:          616\n",
            "   Connections  :          616\n",
            "   Equations    :          927\n",
            "   Residuals    :          311\n",
            " \n",
            " Number of state variables:            467\n",
            " Number of total equations: -          314\n",
            " Number of slack variables: -            4\n",
            " ---------------------------------------\n",
            " Degrees of freedom       :            149\n",
            " \n",
            " ----------------------------------------------\n",
            " Steady State Optimization with APOPT Solver\n",
            " ----------------------------------------------\n",
            "Iter:     1 I:  0 Tm:      0.04 NLPi:   12 Dpth:    0 Lvs:    0 Obj: -8.14E-01 Gap:  0.00E+00\n",
            " Successful solution\n",
            " \n",
            " ---------------------------------------------------\n",
            " Solver         :  APOPT (v1.0)\n",
            " Solution time  :   6.679999999960273E-002 sec\n",
            " Objective      :  -0.814372887613556     \n",
            " Successful solution\n",
            " ---------------------------------------------------\n",
            " \n",
            "\n"
          ]
        }
      ]
    },
    {
      "cell_type": "code",
      "source": [
        "for i in range(len(solution)):\n",
        "  if solution[i] == 1.0:\n",
        "    print(refined_player_df.iloc[i])"
      ],
      "metadata": {
        "colab": {
          "base_uri": "https://localhost:8080/"
        },
        "id": "6LIoZs1Qa6Do",
        "outputId": "5c39ef8f-5b66-4073-de72-4bd0353cda9c"
      },
      "execution_count": null,
      "outputs": [
        {
          "output_type": "stream",
          "name": "stdout",
          "text": [
            "Player    Paul George\n",
            "c            0.371058\n",
            "eo              1.202\n",
            "ed              1.102\n",
            "np          69.272727\n",
            "Name: 10, dtype: object\n",
            "Player    Jalen Smith\n",
            "c            0.096986\n",
            "eo              1.165\n",
            "ed              1.189\n",
            "np          37.568182\n",
            "Name: 68, dtype: object\n",
            "Player    Jrue Holiday\n",
            "c             0.299689\n",
            "eo               1.199\n",
            "ed               1.098\n",
            "np           68.339286\n",
            "Name: 74, dtype: object\n",
            "Player    Andre Drummond\n",
            "c               0.073517\n",
            "eo                 1.134\n",
            "ed                  1.14\n",
            "np             35.147541\n",
            "Name: 89, dtype: object\n",
            "Player    Jose Alvarado\n",
            "c              0.064917\n",
            "eo                1.168\n",
            "ed                1.031\n",
            "np            35.634146\n",
            "Name: 92, dtype: object\n",
            "Player    Eric Gordon\n",
            "c            0.077677\n",
            "eo              1.158\n",
            "ed               1.12\n",
            "np          62.098039\n",
            "Name: 234, dtype: object\n",
            "Player    Lamar Stevens\n",
            "c               0.03558\n",
            "eo                1.028\n",
            "ed                1.025\n",
            "np                22.75\n",
            "Name: 287, dtype: object\n",
            "Player    Bismack Biyombo\n",
            "c                0.051473\n",
            "eo                  1.086\n",
            "ed                  1.129\n",
            "np                   45.0\n",
            "Name: 298, dtype: object\n",
            "Player    Lindy Waters III\n",
            "c                 0.061832\n",
            "eo                   1.065\n",
            "ed                     1.1\n",
            "np               14.115385\n",
            "Name: 307, dtype: object\n",
            "Player    Daniel Theis\n",
            "c             0.070488\n",
            "eo               1.161\n",
            "ed               1.133\n",
            "np           36.222222\n",
            "Name: 318, dtype: object\n",
            "Player    Malachi Flynn\n",
            "c              0.031488\n",
            "eo                1.053\n",
            "ed                1.118\n",
            "np            24.173077\n",
            "Name: 403, dtype: object\n",
            "Player    Markieff Morris\n",
            "c                0.041775\n",
            "eo                  1.018\n",
            "ed                  1.151\n",
            "np              19.111111\n",
            "Name: 430, dtype: object\n"
          ]
        }
      ]
    },
    {
      "cell_type": "code",
      "source": [
        "objective_function(solution, refined_player_df)"
      ],
      "metadata": {
        "colab": {
          "base_uri": "https://localhost:8080/"
        },
        "id": "eh9x2rarb4j5",
        "outputId": "1c52a492-3a8d-49d8-8885-67a3478c1e08"
      },
      "execution_count": null,
      "outputs": [
        {
          "output_type": "execute_result",
          "data": {
            "text/plain": [
              "0.5941173957635177"
            ]
          },
          "metadata": {},
          "execution_count": 126
        }
      ]
    },
    {
      "cell_type": "markdown",
      "source": [
        "**Soft cap model with Bird Rights**"
      ],
      "metadata": {
        "id": "QL3wTYCUphsn"
      }
    },
    {
      "cell_type": "code",
      "source": [
        "player_list = player_df[\"Player\"].tolist()"
      ],
      "metadata": {
        "id": "ScgnYXtqcF5h"
      },
      "execution_count": 19,
      "outputs": []
    },
    {
      "cell_type": "code",
      "source": [
        "fixed_players = [\n",
        "]\n",
        "available_players = [i for i in pd.read_csv(\"FreeAgents.csv\")[\"Player\"].tolist() if i in player_list]"
      ],
      "metadata": {
        "id": "zMmRs_RAp3NY"
      },
      "execution_count": 20,
      "outputs": []
    },
    {
      "cell_type": "code",
      "source": [
        "refined_player_df = player_df[player_df[\"Player\"].isin(available_players) | player_df[\"Player\"].isin(fixed_players)]"
      ],
      "metadata": {
        "id": "U3OW2U1xp5Tg"
      },
      "execution_count": 21,
      "outputs": []
    },
    {
      "cell_type": "code",
      "source": [
        "refined_player_list = refined_player_df[\"Player\"].tolist()\n",
        "fixed_players_indices = [refined_player_list.index(i) for i in fixed_players]"
      ],
      "metadata": {
        "id": "ruCWDJzQp8d2"
      },
      "execution_count": 22,
      "outputs": []
    },
    {
      "cell_type": "code",
      "source": [
        "fixed_players_indices"
      ],
      "metadata": {
        "colab": {
          "base_uri": "https://localhost:8080/"
        },
        "id": "zs-7HVY6p-dt",
        "outputId": "9645a3e6-11a0-447e-92a8-0c4d2062336d"
      },
      "execution_count": 23,
      "outputs": [
        {
          "output_type": "execute_result",
          "data": {
            "text/plain": [
              "[]"
            ]
          },
          "metadata": {},
          "execution_count": 23
        }
      ]
    },
    {
      "cell_type": "code",
      "source": [
        "m = GEKKO(remote=False)\n",
        "n = len(refined_player_df)\n",
        "salaries = refined_player_df[\"c\"].tolist()\n",
        "poss = refined_player_df[\"np\"].tolist()\n",
        "\n",
        "#x = [m.Var(lb=0, ub=1, integer=True) for _ in range(n)]\n",
        "#x = [m.Var(value=1 if i < 15 else 0, lb=0, ub=1, integer=True) for i in range(n)]\n",
        "x = [m.Var(value=1 if i in fixed_players_indices else 0, lb=0, ub=1, integer=True) for i in range(n)]\n",
        "print(x)\n",
        "\n",
        "pts_added = m.Intermediate(1)\n",
        "pts_given = m.Intermediate(1)\n",
        "\n",
        "for i in range(n):\n",
        "    player_data = player_df.iloc[i]\n",
        "    eo = player_data[\"eo\"]\n",
        "    np = player_data[\"np\"]\n",
        "    ed = player_data[\"ed\"]\n",
        "\n",
        "    #Intermediate terms for readability\n",
        "    term_added = m.Intermediate(eo * np * x[i])\n",
        "    term_given = m.Intermediate(ed * np * x[i])\n",
        "\n",
        "    #Update pts_added and pts_given\n",
        "    pts_added = m.Intermediate(pts_added + term_added)\n",
        "    pts_given = m.Intermediate(pts_given + term_given)\n",
        "\n",
        "pts_added_powered = m.Intermediate(pts_added**13.91)\n",
        "pts_given_powered = m.Intermediate(pts_given**13.91)\n",
        "\n",
        "objective = pts_added_powered / (pts_added_powered + pts_given_powered)\n",
        "\n",
        "m.Maximize(objective)\n",
        "\n",
        "#Add roster size constraint\n",
        "m.Equation(m.sum(x) <= 15)\n",
        "m.Equation(m.sum(x) >= 12)\n",
        "\n",
        "#Add salary cap constraint\n",
        "salaries_var = [m.Const(value=salaries[i]) for i in range(n)]\n",
        "m.Equation(m.sum([salaries_var[i] * x[i] for i in range(n) if i not in fixed_players_indices]) <= 1.5)\n",
        "\n",
        "\n",
        "#Add minimum salary constraint\n",
        "m.Equation(m.sum([salaries_var[i] * x[i] for i in range(n)]) >= .9)\n",
        "\n",
        "#Add play time constraint\n",
        "#poss_var = [m.Const(value=poss[i]) for i in range(n)]\n",
        "#m.Equation(m.sum([poss_var[i] * x[i] for i in range(n)]) >= 5*team_np)\n",
        "\n",
        "#Add fixed players constraint\n",
        "for idx in fixed_players_indices:\n",
        "    m.Equation(x[idx] == 1)\n",
        "\n",
        "m.options.SOLVER=1\n",
        "m.solve(disp=True)\n",
        "solution = [x[i].value[0] for i in range(n)]\n",
        "\n",
        "\n"
      ],
      "metadata": {
        "colab": {
          "base_uri": "https://localhost:8080/"
        },
        "id": "q0-mM11EqAkW",
        "outputId": "f00645cd-c291-4fb4-ec36-f1ce859212e6"
      },
      "execution_count": 25,
      "outputs": [
        {
          "output_type": "stream",
          "name": "stdout",
          "text": [
            "[0, 0, 0, 0, 0, 0, 0, 0, 0, 0, 0, 0, 0, 0, 0, 0, 0, 0, 0, 0, 0, 0, 0, 0, 0, 0, 0, 0, 0, 0, 0, 0, 0, 0, 0, 0, 0, 0, 0, 0, 0, 0, 0, 0, 0, 0, 0, 0, 0, 0, 0, 0, 0, 0, 0, 0, 0, 0, 0, 0, 0, 0, 0, 0, 0, 0, 0, 0, 0, 0, 0, 0, 0, 0, 0, 0, 0, 0, 0, 0, 0, 0, 0, 0, 0, 0, 0, 0, 0, 0, 0, 0, 0, 0, 0, 0, 0, 0, 0, 0, 0, 0, 0, 0, 0, 0, 0, 0, 0, 0, 0, 0, 0, 0, 0, 0, 0, 0, 0, 0, 0, 0, 0, 0, 0, 0, 0, 0, 0, 0, 0, 0, 0, 0, 0, 0, 0, 0, 0, 0, 0, 0, 0, 0, 0, 0, 0, 0, 0, 0, 0, 0, 0]\n",
            " ----------------------------------------------------------------\n",
            " APMonitor, Version 1.0.1\n",
            " APMonitor Optimization Suite\n",
            " ----------------------------------------------------------------\n",
            " \n",
            " \n",
            " --------- APM Model Size ------------\n",
            " Each time step contains\n",
            "   Objects      :            4\n",
            "   Constants    :          153\n",
            "   Variables    :          467\n",
            "   Intermediates:          616\n",
            "   Connections  :          616\n",
            "   Equations    :          927\n",
            "   Residuals    :          311\n",
            " \n",
            " Number of state variables:            467\n",
            " Number of total equations: -          314\n",
            " Number of slack variables: -            4\n",
            " ---------------------------------------\n",
            " Degrees of freedom       :            149\n",
            " \n",
            " ----------------------------------------------\n",
            " Steady State Optimization with APOPT Solver\n",
            " ----------------------------------------------\n",
            "Iter:     1 I:  0 Tm:      0.04 NLPi:   11 Dpth:    0 Lvs:    0 Obj: -8.12E-01 Gap:  0.00E+00\n",
            " Successful solution\n",
            " \n",
            " ---------------------------------------------------\n",
            " Solver         :  APOPT (v1.0)\n",
            " Solution time  :   6.550000000061118E-002 sec\n",
            " Objective      :  -0.811866987160413     \n",
            " Successful solution\n",
            " ---------------------------------------------------\n",
            " \n",
            "\n"
          ]
        }
      ]
    },
    {
      "cell_type": "code",
      "source": [
        "for i in range(len(solution)):\n",
        "  if solution[i] == 1.0:\n",
        "    print(refined_player_df.iloc[i])"
      ],
      "metadata": {
        "colab": {
          "base_uri": "https://localhost:8080/"
        },
        "id": "WsF-V6sEqqp3",
        "outputId": "418f7348-bb85-4920-e482-55e7a0a525c1"
      },
      "execution_count": 26,
      "outputs": [
        {
          "output_type": "stream",
          "name": "stdout",
          "text": [
            "Player    Paul George\n",
            "c            0.371058\n",
            "eo                1.2\n",
            "ed                1.1\n",
            "np          69.272727\n",
            "Name: 10, dtype: object\n",
            "Player    Jalen Smith\n",
            "c            0.096986\n",
            "eo              1.164\n",
            "ed              1.185\n",
            "np          37.568182\n",
            "Name: 68, dtype: object\n",
            "Player    Jrue Holiday\n",
            "c             0.299689\n",
            "eo               1.196\n",
            "ed               1.098\n",
            "np           68.339286\n",
            "Name: 74, dtype: object\n",
            "Player    Jose Alvarado\n",
            "c              0.064917\n",
            "eo                 1.18\n",
            "ed                1.033\n",
            "np            35.634146\n",
            "Name: 92, dtype: object\n",
            "Player    Eric Gordon\n",
            "c            0.077677\n",
            "eo              1.156\n",
            "ed              1.123\n",
            "np          62.098039\n",
            "Name: 234, dtype: object\n",
            "Player    Lamar Stevens\n",
            "c               0.03558\n",
            "eo                1.019\n",
            "ed                1.016\n",
            "np                22.75\n",
            "Name: 287, dtype: object\n",
            "Player    Bismack Biyombo\n",
            "c                0.051473\n",
            "eo                  1.084\n",
            "ed                  1.128\n",
            "np                   45.0\n",
            "Name: 298, dtype: object\n",
            "Player    Thaddeus Young\n",
            "c               0.065041\n",
            "eo                  1.17\n",
            "ed                 1.197\n",
            "np                  31.0\n",
            "Name: 305, dtype: object\n",
            "Player    Lindy Waters III\n",
            "c                 0.061832\n",
            "eo                   1.058\n",
            "ed                   1.099\n",
            "np               14.115385\n",
            "Name: 307, dtype: object\n",
            "Player    Daniel Theis\n",
            "c             0.070488\n",
            "eo               1.159\n",
            "ed               1.128\n",
            "np           36.222222\n",
            "Name: 318, dtype: object\n",
            "Player    Malachi Flynn\n",
            "c              0.031488\n",
            "eo                1.057\n",
            "ed                1.124\n",
            "np            24.173077\n",
            "Name: 403, dtype: object\n",
            "Player    Markieff Morris\n",
            "c                0.041775\n",
            "eo                  1.049\n",
            "ed                  1.165\n",
            "np              19.111111\n",
            "Name: 430, dtype: object\n"
          ]
        }
      ]
    },
    {
      "cell_type": "code",
      "source": [
        "objective_function(solution, refined_player_df)"
      ],
      "metadata": {
        "colab": {
          "base_uri": "https://localhost:8080/"
        },
        "id": "n3lS_gfqrBME",
        "outputId": "1ebc35c9-6cd6-4e0b-bd94-f7614b709e6f"
      },
      "execution_count": 27,
      "outputs": [
        {
          "output_type": "execute_result",
          "data": {
            "text/plain": [
              "0.5920209983940311"
            ]
          },
          "metadata": {},
          "execution_count": 27
        }
      ]
    },
    {
      "cell_type": "code",
      "source": [],
      "metadata": {
        "id": "PbV4F8oqrHC9"
      },
      "execution_count": null,
      "outputs": []
    }
  ],
  "metadata": {
    "colab": {
      "provenance": []
    },
    "kernelspec": {
      "display_name": "Python 3",
      "name": "python3"
    },
    "language_info": {
      "name": "python"
    }
  },
  "nbformat": 4,
  "nbformat_minor": 0
}